{
 "cells": [
  {
   "cell_type": "code",
   "execution_count": 85,
   "id": "f631d071",
   "metadata": {},
   "outputs": [],
   "source": [
    "import pandas as pd\n",
    "import numpy as np\n",
    "import tensorflow as tf\n",
    "import matplotlib.pyplot as plt\n",
    "import keras\n",
    "from keras import layers, models\n",
    "from keras.models import Sequential\n",
    "from tensorflow.keras.optimizers import RMSprop, SGD\n",
    "from keras.layers import Dense,Conv2D, Dropout,Activation,MaxPooling2D,Flatten\n"
   ]
  },
  {
   "cell_type": "code",
   "execution_count": 86,
   "id": "e1c35c92",
   "metadata": {},
   "outputs": [
    {
     "name": "stdout",
     "output_type": "stream",
     "text": [
      "skipping: 202599\n",
      "\n",
      "skipping headers: 5_o_Clock_Shadow Arched_Eyebrows Attractive Bags_Under_Eyes Bald Bangs Big_Lips Big_Nose Black_Hair Blond_Hair Blurry Brown_Hair Bushy_Eyebrows Chubby Double_Chin Eyeglasses Goatee Gray_Hair Heavy_Makeup High_Cheekbones Male Mouth_Slightly_Open Mustache Narrow_Eyes No_Beard Oval_Face Pale_Skin Pointy_Nose Receding_Hairline Rosy_Cheeks Sideburns Smiling Straight_Hair Wavy_Hair Wearing_Earrings Wearing_Hat Wearing_Lipstick Wearing_Necklace Wearing_Necktie Young \n",
      "\n"
     ]
    }
   ],
   "source": [
    "atributos = '/Users/luceromartinezbonilla/Downloads/rec_fac/list_attr_celeba.txt'\n",
    "atributos_finales = '/Users/luceromartinezbonilla/Downloads/rec_fac/list_attr_celeba_modificado.txt' \n",
    "with open(atributos, 'r') as f:\n",
    "    print(\"skipping: \" + f.readline())\n",
    "    print(\"skipping headers: \" + f.readline())\n",
    "    with open(atributos_finales, 'w') as newf:\n",
    "        for line in f:\n",
    "            new_line = ' '.join(line.split())\n",
    "            newf.write(new_line)\n",
    "            newf.write('\\n')\n",
    "        "
   ]
  },
  {
   "cell_type": "code",
   "execution_count": 75,
   "id": "7df7019a",
   "metadata": {},
   "outputs": [
    {
     "data": {
      "text/plain": [
       "'2.9.1'"
      ]
     },
     "execution_count": 75,
     "metadata": {},
     "output_type": "execute_result"
    }
   ],
   "source": [
    "tf.version.VERSION"
   ]
  },
  {
   "cell_type": "code",
   "execution_count": 87,
   "id": "9213580a",
   "metadata": {},
   "outputs": [],
   "source": [
    "#hacemos un csv\n",
    "atributos = '/Users/luceromartinezbonilla/Downloads/rec_fac/list_attr_celeba_modificado.txt'\n",
    "df = pd.read_csv(atributos, sep=' ',  header=None)"
   ]
  },
  {
   "cell_type": "code",
   "execution_count": 77,
   "id": "0f1f54a6",
   "metadata": {
    "scrolled": true
   },
   "outputs": [
    {
     "data": {
      "text/html": [
       "<div>\n",
       "<style scoped>\n",
       "    .dataframe tbody tr th:only-of-type {\n",
       "        vertical-align: middle;\n",
       "    }\n",
       "\n",
       "    .dataframe tbody tr th {\n",
       "        vertical-align: top;\n",
       "    }\n",
       "\n",
       "    .dataframe thead th {\n",
       "        text-align: right;\n",
       "    }\n",
       "</style>\n",
       "<table border=\"1\" class=\"dataframe\">\n",
       "  <thead>\n",
       "    <tr style=\"text-align: right;\">\n",
       "      <th></th>\n",
       "      <th>0</th>\n",
       "      <th>1</th>\n",
       "      <th>2</th>\n",
       "      <th>3</th>\n",
       "      <th>4</th>\n",
       "      <th>5</th>\n",
       "      <th>6</th>\n",
       "      <th>7</th>\n",
       "      <th>8</th>\n",
       "      <th>9</th>\n",
       "      <th>...</th>\n",
       "      <th>31</th>\n",
       "      <th>32</th>\n",
       "      <th>33</th>\n",
       "      <th>34</th>\n",
       "      <th>35</th>\n",
       "      <th>36</th>\n",
       "      <th>37</th>\n",
       "      <th>38</th>\n",
       "      <th>39</th>\n",
       "      <th>40</th>\n",
       "    </tr>\n",
       "  </thead>\n",
       "  <tbody>\n",
       "    <tr>\n",
       "      <th>0</th>\n",
       "      <td>000001.jpg</td>\n",
       "      <td>-1</td>\n",
       "      <td>1</td>\n",
       "      <td>1</td>\n",
       "      <td>-1</td>\n",
       "      <td>-1</td>\n",
       "      <td>-1</td>\n",
       "      <td>-1</td>\n",
       "      <td>-1</td>\n",
       "      <td>-1</td>\n",
       "      <td>...</td>\n",
       "      <td>-1</td>\n",
       "      <td>1</td>\n",
       "      <td>1</td>\n",
       "      <td>-1</td>\n",
       "      <td>1</td>\n",
       "      <td>-1</td>\n",
       "      <td>1</td>\n",
       "      <td>-1</td>\n",
       "      <td>-1</td>\n",
       "      <td>1</td>\n",
       "    </tr>\n",
       "    <tr>\n",
       "      <th>1</th>\n",
       "      <td>000002.jpg</td>\n",
       "      <td>-1</td>\n",
       "      <td>-1</td>\n",
       "      <td>-1</td>\n",
       "      <td>1</td>\n",
       "      <td>-1</td>\n",
       "      <td>-1</td>\n",
       "      <td>-1</td>\n",
       "      <td>1</td>\n",
       "      <td>-1</td>\n",
       "      <td>...</td>\n",
       "      <td>-1</td>\n",
       "      <td>1</td>\n",
       "      <td>-1</td>\n",
       "      <td>-1</td>\n",
       "      <td>-1</td>\n",
       "      <td>-1</td>\n",
       "      <td>-1</td>\n",
       "      <td>-1</td>\n",
       "      <td>-1</td>\n",
       "      <td>1</td>\n",
       "    </tr>\n",
       "    <tr>\n",
       "      <th>2</th>\n",
       "      <td>000003.jpg</td>\n",
       "      <td>-1</td>\n",
       "      <td>-1</td>\n",
       "      <td>-1</td>\n",
       "      <td>-1</td>\n",
       "      <td>-1</td>\n",
       "      <td>-1</td>\n",
       "      <td>1</td>\n",
       "      <td>-1</td>\n",
       "      <td>-1</td>\n",
       "      <td>...</td>\n",
       "      <td>-1</td>\n",
       "      <td>-1</td>\n",
       "      <td>-1</td>\n",
       "      <td>1</td>\n",
       "      <td>-1</td>\n",
       "      <td>-1</td>\n",
       "      <td>-1</td>\n",
       "      <td>-1</td>\n",
       "      <td>-1</td>\n",
       "      <td>1</td>\n",
       "    </tr>\n",
       "    <tr>\n",
       "      <th>3</th>\n",
       "      <td>000004.jpg</td>\n",
       "      <td>-1</td>\n",
       "      <td>-1</td>\n",
       "      <td>1</td>\n",
       "      <td>-1</td>\n",
       "      <td>-1</td>\n",
       "      <td>-1</td>\n",
       "      <td>-1</td>\n",
       "      <td>-1</td>\n",
       "      <td>-1</td>\n",
       "      <td>...</td>\n",
       "      <td>-1</td>\n",
       "      <td>-1</td>\n",
       "      <td>1</td>\n",
       "      <td>-1</td>\n",
       "      <td>1</td>\n",
       "      <td>-1</td>\n",
       "      <td>1</td>\n",
       "      <td>1</td>\n",
       "      <td>-1</td>\n",
       "      <td>1</td>\n",
       "    </tr>\n",
       "    <tr>\n",
       "      <th>4</th>\n",
       "      <td>000005.jpg</td>\n",
       "      <td>-1</td>\n",
       "      <td>1</td>\n",
       "      <td>1</td>\n",
       "      <td>-1</td>\n",
       "      <td>-1</td>\n",
       "      <td>-1</td>\n",
       "      <td>1</td>\n",
       "      <td>-1</td>\n",
       "      <td>-1</td>\n",
       "      <td>...</td>\n",
       "      <td>-1</td>\n",
       "      <td>-1</td>\n",
       "      <td>-1</td>\n",
       "      <td>-1</td>\n",
       "      <td>-1</td>\n",
       "      <td>-1</td>\n",
       "      <td>1</td>\n",
       "      <td>-1</td>\n",
       "      <td>-1</td>\n",
       "      <td>1</td>\n",
       "    </tr>\n",
       "  </tbody>\n",
       "</table>\n",
       "<p>5 rows × 41 columns</p>\n",
       "</div>"
      ],
      "text/plain": [
       "           0   1   2   3   4   5   6   7   8   9   ...  31  32  33  34  35  \\\n",
       "0  000001.jpg  -1   1   1  -1  -1  -1  -1  -1  -1  ...  -1   1   1  -1   1   \n",
       "1  000002.jpg  -1  -1  -1   1  -1  -1  -1   1  -1  ...  -1   1  -1  -1  -1   \n",
       "2  000003.jpg  -1  -1  -1  -1  -1  -1   1  -1  -1  ...  -1  -1  -1   1  -1   \n",
       "3  000004.jpg  -1  -1   1  -1  -1  -1  -1  -1  -1  ...  -1  -1   1  -1   1   \n",
       "4  000005.jpg  -1   1   1  -1  -1  -1   1  -1  -1  ...  -1  -1  -1  -1  -1   \n",
       "\n",
       "   36  37  38  39  40  \n",
       "0  -1   1  -1  -1   1  \n",
       "1  -1  -1  -1  -1   1  \n",
       "2  -1  -1  -1  -1   1  \n",
       "3  -1   1   1  -1   1  \n",
       "4  -1   1  -1  -1   1  \n",
       "\n",
       "[5 rows x 41 columns]"
      ]
     },
     "execution_count": 77,
     "metadata": {},
     "output_type": "execute_result"
    }
   ],
   "source": [
    "#visualizamos el dataframe de atributos\n",
    "df.head()"
   ]
  },
  {
   "cell_type": "code",
   "execution_count": 97,
   "id": "120b2d58",
   "metadata": {},
   "outputs": [
    {
     "name": "stdout",
     "output_type": "stream",
     "text": [
      "[[0 1 1 ... 0 0 1]\n",
      " [0 0 0 ... 0 0 1]\n",
      " [0 0 0 ... 0 0 1]\n",
      " ...\n",
      " [0 0 0 ... 0 0 1]\n",
      " [0 1 1 ... 0 0 1]\n",
      " [0 1 1 ... 0 0 1]]\n"
     ]
    }
   ],
   "source": [
    "df.replace(to_replace=-1, value=0, inplace=True) #reemplazamos los valores \"-1\" por 0\n",
    "#puede ser haya errores de formato, por lo que nos aseguramos reemplazando todo a numeros\n",
    "df.replace(to_replace='0', value=0, inplace=True) \n",
    "df.replace(to_replace='-1', value=0, inplace=True) \n",
    "df.replace(to_replace='1', value=1, inplace=True) \n",
    "\n",
    "#Se toman todas las filas, y todas las columnas menos la primera y se transforma a una matriz numpy\n",
    "x = np.asarray(df.iloc[:, 1:]).astype('int64')\n",
    "print(x)\n"
   ]
  },
  {
   "cell_type": "code",
   "execution_count": null,
   "id": "2a0ecc78",
   "metadata": {},
   "outputs": [],
   "source": [
    "files = tf.data.Dataset.from_tensor_slices(df[0]) \n",
    "attributes = tf.data.Dataset.from_tensor_slices(x) \n",
    "data = tf.data.Dataset.zip((files, attributes)) #Se concatena la columna de nombres (files) y la matriz de atributos (x)\n"
   ]
  },
  {
   "cell_type": "code",
   "execution_count": null,
   "id": "37949070",
   "metadata": {},
   "outputs": [],
   "source": [
    "path_to_images = '/Users/luceromartinezbonilla/Desktop/redes neuronales/reconocimiento_facial/archive/img_align_celeba/'\n",
    "\n",
    "def process_file(file_name, attributes):\n",
    "    #Se cargan las imágenes uniendo la ruta de la carpeta y el nombre de la imagen\n",
    "    image = tf.io.read_file(path_to_images + file_name)\n",
    "    #Se descomprime la imagen\n",
    "    image = tf.image.decode_jpeg(image, channels=3)\n",
    "    #Se reescala la imagen\n",
    "    image = tf.image.resize(image, [192, 192])\n",
    "    #Se normalizan los pixeles\n",
    "    image /= 255.0\n",
    "    #Esta función regresa a la imagen en lugar del nombre obtenido de file_name\n",
    "    #y los atributos de la imagen sin modificar\n",
    "    return image, attributes"
   ]
  },
  {
   "cell_type": "code",
   "execution_count": 99,
   "id": "4ca8ce69",
   "metadata": {},
   "outputs": [],
   "source": [
    "#Se aplica la función process_file al Dataset unido \n",
    "labeled_images = data.map(process_file).batch(batch_size)"
   ]
  },
  {
   "cell_type": "code",
   "execution_count": 96,
   "id": "91343206",
   "metadata": {},
   "outputs": [
    {
     "data": {
      "text/plain": [
       "<BatchDataset element_spec=(TensorSpec(shape=(None, 192, 192, 3), dtype=tf.float32, name=None), TensorSpec(shape=(None, 40), dtype=tf.int64, name=None))>"
      ]
     },
     "execution_count": 96,
     "metadata": {},
     "output_type": "execute_result"
    }
   ],
   "source": [
    "labeled_images"
   ]
  },
  {
   "cell_type": "code",
   "execution_count": 90,
   "id": "232570ef",
   "metadata": {},
   "outputs": [],
   "source": [
    "epochs = 3\n",
    "batch_size = 30\n",
    "optimizer = 'rmsprop'\n",
    "ih, iw = 192, 192"
   ]
  },
  {
   "cell_type": "code",
   "execution_count": 91,
   "id": "f9479695",
   "metadata": {},
   "outputs": [],
   "source": [
    "#usamos una separacion de los datos 80-20\n",
    "num_train = int(len(df)*0.8) #80% de los datos \n",
    "num_test =len(df) - num_train #20% de los datos\n",
    "\n",
    "epochs_steps = num_train // batch_size\n",
    "test_steps = num_test // batch_size\n",
    "\n",
    "d_train = imagen_etiquetada.take(num_train)\n",
    "d_test = imagen_etiquetada.skip(num_train)\n"
   ]
  },
  {
   "cell_type": "code",
   "execution_count": 92,
   "id": "86a16983",
   "metadata": {},
   "outputs": [],
   "source": [
    "model = Sequential()\n",
    "\n",
    "#capas convolucionales\n",
    "model.add(Conv2D(40, (3, 3), input_shape= (192,192,3)))\n",
    "model.add(Activation('relu'))\n",
    "model.add(MaxPooling2D(pool_size=(2,2)))\n",
    "\n",
    "model.add(Conv2D(100, (3, 3)))\n",
    "model.add(Activation('relu'))\n",
    "model.add(MaxPooling2D(pool_size=(2,2)))\n",
    "\n",
    "model.add(Conv2D(150, (3, 3)))\n",
    "model.add(Activation('relu'))\n",
    "model.add(MaxPooling2D(pool_size=(2,2)))\n",
    "\n",
    "#aplanamiento \n",
    "model.add(Flatten())\n",
    "\n",
    "#redes densas\n",
    "model.add(Dense(64))\n",
    "model.add(Activation('relu'))\n",
    "model.add(Dropout(0.2))\n",
    "\n",
    "#Capa de salida con 40 neuronas\n",
    "model.add(Dense(40))\n",
    "model.add(Activation('sigmoid'))"
   ]
  },
  {
   "cell_type": "code",
   "execution_count": 93,
   "id": "92e9e1b9",
   "metadata": {},
   "outputs": [
    {
     "name": "stdout",
     "output_type": "stream",
     "text": [
      "Model: \"sequential_5\"\n",
      "_________________________________________________________________\n",
      " Layer (type)                Output Shape              Param #   \n",
      "=================================================================\n",
      " conv2d_15 (Conv2D)          (None, 190, 190, 40)      1120      \n",
      "                                                                 \n",
      " activation_25 (Activation)  (None, 190, 190, 40)      0         \n",
      "                                                                 \n",
      " max_pooling2d_15 (MaxPoolin  (None, 95, 95, 40)       0         \n",
      " g2D)                                                            \n",
      "                                                                 \n",
      " conv2d_16 (Conv2D)          (None, 93, 93, 100)       36100     \n",
      "                                                                 \n",
      " activation_26 (Activation)  (None, 93, 93, 100)       0         \n",
      "                                                                 \n",
      " max_pooling2d_16 (MaxPoolin  (None, 46, 46, 100)      0         \n",
      " g2D)                                                            \n",
      "                                                                 \n",
      " conv2d_17 (Conv2D)          (None, 44, 44, 150)       135150    \n",
      "                                                                 \n",
      " activation_27 (Activation)  (None, 44, 44, 150)       0         \n",
      "                                                                 \n",
      " max_pooling2d_17 (MaxPoolin  (None, 22, 22, 150)      0         \n",
      " g2D)                                                            \n",
      "                                                                 \n",
      " flatten_5 (Flatten)         (None, 72600)             0         \n",
      "                                                                 \n",
      " dense_10 (Dense)            (None, 64)                4646464   \n",
      "                                                                 \n",
      " activation_28 (Activation)  (None, 64)                0         \n",
      "                                                                 \n",
      " dropout_5 (Dropout)         (None, 64)                0         \n",
      "                                                                 \n",
      " dense_11 (Dense)            (None, 40)                2600      \n",
      "                                                                 \n",
      " activation_29 (Activation)  (None, 40)                0         \n",
      "                                                                 \n",
      "=================================================================\n",
      "Total params: 4,821,434\n",
      "Trainable params: 4,821,434\n",
      "Non-trainable params: 0\n",
      "_________________________________________________________________\n"
     ]
    }
   ],
   "source": [
    "model.compile(loss='binary_crossentropy',\n",
    "              optimizer=optimizer,\n",
    "              metrics=['binary_accuracy'])\n",
    "\n",
    "model.summary()"
   ]
  },
  {
   "cell_type": "code",
   "execution_count": 94,
   "id": "4c295edb",
   "metadata": {},
   "outputs": [
    {
     "name": "stdout",
     "output_type": "stream",
     "text": [
      "Epoch 1/3\n"
     ]
    },
    {
     "ename": "AttributeError",
     "evalue": "in user code:\n\n    File \"/Users/luceromartinezbonilla/opt/anaconda3/envs/tensorflow/lib/python3.9/site-packages/keras/engine/training.py\", line 1051, in train_function  *\n        return step_function(self, iterator)\n    File \"/Users/luceromartinezbonilla/opt/anaconda3/envs/tensorflow/lib/python3.9/site-packages/keras/engine/training.py\", line 1040, in step_function  **\n        outputs = model.distribute_strategy.run(run_step, args=(data,))\n    File \"/Users/luceromartinezbonilla/opt/anaconda3/envs/tensorflow/lib/python3.9/site-packages/keras/engine/training.py\", line 1030, in run_step  **\n        outputs = model.train_step(data)\n    File \"/Users/luceromartinezbonilla/opt/anaconda3/envs/tensorflow/lib/python3.9/site-packages/keras/engine/training.py\", line 890, in train_step\n        loss = self.compute_loss(x, y, y_pred, sample_weight)\n    File \"/Users/luceromartinezbonilla/opt/anaconda3/envs/tensorflow/lib/python3.9/site-packages/keras/engine/training.py\", line 948, in compute_loss\n        return self.compiled_loss(\n    File \"/Users/luceromartinezbonilla/opt/anaconda3/envs/tensorflow/lib/python3.9/site-packages/keras/engine/compile_utils.py\", line 199, in __call__\n        y_t, y_p, sw = match_dtype_and_rank(y_t, y_p, sw)\n    File \"/Users/luceromartinezbonilla/opt/anaconda3/envs/tensorflow/lib/python3.9/site-packages/keras/engine/compile_utils.py\", line 717, in match_dtype_and_rank\n        if y_t.shape.rank == 1 and y_p.shape.rank == 2:\n\n    AttributeError: '_NestedVariant' object has no attribute 'shape'\n",
     "output_type": "error",
     "traceback": [
      "\u001b[0;31m---------------------------------------------------------------------------\u001b[0m",
      "\u001b[0;31mAttributeError\u001b[0m                            Traceback (most recent call last)",
      "Input \u001b[0;32mIn [94]\u001b[0m, in \u001b[0;36m<cell line: 1>\u001b[0;34m()\u001b[0m\n\u001b[0;32m----> 1\u001b[0m \u001b[43mmodel\u001b[49m\u001b[38;5;241;43m.\u001b[39;49m\u001b[43mfit\u001b[49m\u001b[43m(\u001b[49m\u001b[43md_train\u001b[49m\u001b[43m,\u001b[49m\n\u001b[1;32m      2\u001b[0m \u001b[43m    \u001b[49m\u001b[43mepochs\u001b[49m\u001b[38;5;241;43m=\u001b[39;49m\u001b[43mepochs\u001b[49m\u001b[43m,\u001b[49m\n\u001b[1;32m      3\u001b[0m \u001b[43m    \u001b[49m\u001b[43mbatch_size\u001b[49m\u001b[38;5;241;43m=\u001b[39;49m\u001b[43mbatch_size\u001b[49m\u001b[43m,\u001b[49m\n\u001b[1;32m      4\u001b[0m \u001b[43m    \u001b[49m\u001b[43mvalidation_data\u001b[49m\u001b[38;5;241;43m=\u001b[39;49m\u001b[43md_test\u001b[49m\u001b[43m,\u001b[49m\n\u001b[1;32m      5\u001b[0m \u001b[43m    \u001b[49m\u001b[43mvalidation_steps\u001b[49m\u001b[38;5;241;43m=\u001b[39;49m\u001b[43mtest_steps\u001b[49m\u001b[43m)\u001b[49m\n\u001b[1;32m      8\u001b[0m model\u001b[38;5;241m.\u001b[39msave(\u001b[38;5;124m'\u001b[39m\u001b[38;5;124mrna_attrib.h5\u001b[39m\u001b[38;5;124m'\u001b[39m)\n",
      "File \u001b[0;32m~/opt/anaconda3/envs/tensorflow/lib/python3.9/site-packages/keras/utils/traceback_utils.py:67\u001b[0m, in \u001b[0;36mfilter_traceback.<locals>.error_handler\u001b[0;34m(*args, **kwargs)\u001b[0m\n\u001b[1;32m     65\u001b[0m \u001b[38;5;28;01mexcept\u001b[39;00m \u001b[38;5;167;01mException\u001b[39;00m \u001b[38;5;28;01mas\u001b[39;00m e:  \u001b[38;5;66;03m# pylint: disable=broad-except\u001b[39;00m\n\u001b[1;32m     66\u001b[0m   filtered_tb \u001b[38;5;241m=\u001b[39m _process_traceback_frames(e\u001b[38;5;241m.\u001b[39m__traceback__)\n\u001b[0;32m---> 67\u001b[0m   \u001b[38;5;28;01mraise\u001b[39;00m e\u001b[38;5;241m.\u001b[39mwith_traceback(filtered_tb) \u001b[38;5;28;01mfrom\u001b[39;00m \u001b[38;5;28mNone\u001b[39m\n\u001b[1;32m     68\u001b[0m \u001b[38;5;28;01mfinally\u001b[39;00m:\n\u001b[1;32m     69\u001b[0m   \u001b[38;5;28;01mdel\u001b[39;00m filtered_tb\n",
      "File \u001b[0;32m/var/folders/m3/hps5_9xx7976xknzy5yyb08r0000gn/T/__autograph_generated_filet7jqjsru.py:15\u001b[0m, in \u001b[0;36mouter_factory.<locals>.inner_factory.<locals>.tf__train_function\u001b[0;34m(iterator)\u001b[0m\n\u001b[1;32m     13\u001b[0m \u001b[38;5;28;01mtry\u001b[39;00m:\n\u001b[1;32m     14\u001b[0m     do_return \u001b[38;5;241m=\u001b[39m \u001b[38;5;28;01mTrue\u001b[39;00m\n\u001b[0;32m---> 15\u001b[0m     retval_ \u001b[38;5;241m=\u001b[39m ag__\u001b[38;5;241m.\u001b[39mconverted_call(ag__\u001b[38;5;241m.\u001b[39mld(step_function), (ag__\u001b[38;5;241m.\u001b[39mld(\u001b[38;5;28mself\u001b[39m), ag__\u001b[38;5;241m.\u001b[39mld(iterator)), \u001b[38;5;28;01mNone\u001b[39;00m, fscope)\n\u001b[1;32m     16\u001b[0m \u001b[38;5;28;01mexcept\u001b[39;00m:\n\u001b[1;32m     17\u001b[0m     do_return \u001b[38;5;241m=\u001b[39m \u001b[38;5;28;01mFalse\u001b[39;00m\n",
      "\u001b[0;31mAttributeError\u001b[0m: in user code:\n\n    File \"/Users/luceromartinezbonilla/opt/anaconda3/envs/tensorflow/lib/python3.9/site-packages/keras/engine/training.py\", line 1051, in train_function  *\n        return step_function(self, iterator)\n    File \"/Users/luceromartinezbonilla/opt/anaconda3/envs/tensorflow/lib/python3.9/site-packages/keras/engine/training.py\", line 1040, in step_function  **\n        outputs = model.distribute_strategy.run(run_step, args=(data,))\n    File \"/Users/luceromartinezbonilla/opt/anaconda3/envs/tensorflow/lib/python3.9/site-packages/keras/engine/training.py\", line 1030, in run_step  **\n        outputs = model.train_step(data)\n    File \"/Users/luceromartinezbonilla/opt/anaconda3/envs/tensorflow/lib/python3.9/site-packages/keras/engine/training.py\", line 890, in train_step\n        loss = self.compute_loss(x, y, y_pred, sample_weight)\n    File \"/Users/luceromartinezbonilla/opt/anaconda3/envs/tensorflow/lib/python3.9/site-packages/keras/engine/training.py\", line 948, in compute_loss\n        return self.compiled_loss(\n    File \"/Users/luceromartinezbonilla/opt/anaconda3/envs/tensorflow/lib/python3.9/site-packages/keras/engine/compile_utils.py\", line 199, in __call__\n        y_t, y_p, sw = match_dtype_and_rank(y_t, y_p, sw)\n    File \"/Users/luceromartinezbonilla/opt/anaconda3/envs/tensorflow/lib/python3.9/site-packages/keras/engine/compile_utils.py\", line 717, in match_dtype_and_rank\n        if y_t.shape.rank == 1 and y_p.shape.rank == 2:\n\n    AttributeError: '_NestedVariant' object has no attribute 'shape'\n"
     ]
    }
   ],
   "source": [
    "#entrenamos el mode\n",
    "model.fit(d_train,\n",
    "    epochs=epochs,\n",
    "    batch_size=batch_size,\n",
    "    validation_data=d_test,\n",
    "    validation_steps=test_steps)\n",
    "\n",
    "\n",
    "model.save('red_atributos.h5')"
   ]
  },
  {
   "cell_type": "code",
   "execution_count": null,
   "id": "5d16437d",
   "metadata": {},
   "outputs": [],
   "source": []
  },
  {
   "cell_type": "code",
   "execution_count": null,
   "id": "d57f1b1a",
   "metadata": {},
   "outputs": [],
   "source": []
  }
 ],
 "metadata": {
  "kernelspec": {
   "display_name": "Python 3 (ipykernel)",
   "language": "python",
   "name": "python3"
  },
  "language_info": {
   "codemirror_mode": {
    "name": "ipython",
    "version": 3
   },
   "file_extension": ".py",
   "mimetype": "text/x-python",
   "name": "python",
   "nbconvert_exporter": "python",
   "pygments_lexer": "ipython3",
   "version": "3.9.13"
  }
 },
 "nbformat": 4,
 "nbformat_minor": 5
}
